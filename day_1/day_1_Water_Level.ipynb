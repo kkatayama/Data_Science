{
  "nbformat": 4,
  "nbformat_minor": 0,
  "metadata": {
    "colab": {
      "name": "day_1_Water_Level.ipynb",
      "provenance": [],
      "include_colab_link": true
    },
    "kernelspec": {
      "name": "python3",
      "display_name": "Python 3"
    }
  },
  "cells": [
    {
      "cell_type": "markdown",
      "metadata": {
        "id": "view-in-github",
        "colab_type": "text"
      },
      "source": [
        "<a href=\"https://colab.research.google.com/github/kkatayama/Data_Science/blob/master/day_1_Water_Level.ipynb\" target=\"_parent\"><img src=\"https://colab.research.google.com/assets/colab-badge.svg\" alt=\"Open In Colab\"/></a>"
      ]
    },
    {
      "cell_type": "markdown",
      "metadata": {
        "id": "PXT-xjbF09J0",
        "colab_type": "text"
      },
      "source": [
        "# IMPORT LIBRARIES"
      ]
    },
    {
      "cell_type": "code",
      "metadata": {
        "id": "jXpzYc8gx6tv",
        "colab_type": "code",
        "colab": {}
      },
      "source": [
        "import pandas as pd"
      ],
      "execution_count": 0,
      "outputs": []
    },
    {
      "cell_type": "markdown",
      "metadata": {
        "id": "xn_xHEXD1Jv3",
        "colab_type": "text"
      },
      "source": [
        "# Fetch csv data from URL"
      ]
    },
    {
      "cell_type": "code",
      "metadata": {
        "id": "RCukSBQSydRr",
        "colab_type": "code",
        "outputId": "90eb2dd2-c800-4e82-e0c2-3fa1f723d175",
        "colab": {
          "base_uri": "https://localhost:8080/",
          "height": 204
        }
      },
      "source": [
        "fname = 'https://www.star.nesdis.noaa.gov/sod/lsa/SeaLevelRise/slr/slr_sla_gbl_free_txj1j2_90.csv'\n",
        "data = pd.read_csv(fname, skiprows=5)\n",
        "data.head()"
      ],
      "execution_count": 0,
      "outputs": [
        {
          "output_type": "execute_result",
          "data": {
            "text/html": [
              "<div>\n",
              "<style scoped>\n",
              "    .dataframe tbody tr th:only-of-type {\n",
              "        vertical-align: middle;\n",
              "    }\n",
              "\n",
              "    .dataframe tbody tr th {\n",
              "        vertical-align: top;\n",
              "    }\n",
              "\n",
              "    .dataframe thead th {\n",
              "        text-align: right;\n",
              "    }\n",
              "</style>\n",
              "<table border=\"1\" class=\"dataframe\">\n",
              "  <thead>\n",
              "    <tr style=\"text-align: right;\">\n",
              "      <th></th>\n",
              "      <th>year</th>\n",
              "      <th>TOPEX/Poseidon</th>\n",
              "      <th>Jason-1</th>\n",
              "      <th>Jason-2</th>\n",
              "      <th>Jason-3</th>\n",
              "    </tr>\n",
              "  </thead>\n",
              "  <tbody>\n",
              "    <tr>\n",
              "      <th>0</th>\n",
              "      <td>1992.9614</td>\n",
              "      <td>-19.55</td>\n",
              "      <td>NaN</td>\n",
              "      <td>NaN</td>\n",
              "      <td>NaN</td>\n",
              "    </tr>\n",
              "    <tr>\n",
              "      <th>1</th>\n",
              "      <td>1992.9865</td>\n",
              "      <td>-19.97</td>\n",
              "      <td>NaN</td>\n",
              "      <td>NaN</td>\n",
              "      <td>NaN</td>\n",
              "    </tr>\n",
              "    <tr>\n",
              "      <th>2</th>\n",
              "      <td>1993.0123</td>\n",
              "      <td>-15.63</td>\n",
              "      <td>NaN</td>\n",
              "      <td>NaN</td>\n",
              "      <td>NaN</td>\n",
              "    </tr>\n",
              "    <tr>\n",
              "      <th>3</th>\n",
              "      <td>1993.0407</td>\n",
              "      <td>-19.43</td>\n",
              "      <td>NaN</td>\n",
              "      <td>NaN</td>\n",
              "      <td>NaN</td>\n",
              "    </tr>\n",
              "    <tr>\n",
              "      <th>4</th>\n",
              "      <td>1993.0660</td>\n",
              "      <td>-23.96</td>\n",
              "      <td>NaN</td>\n",
              "      <td>NaN</td>\n",
              "      <td>NaN</td>\n",
              "    </tr>\n",
              "  </tbody>\n",
              "</table>\n",
              "</div>"
            ],
            "text/plain": [
              "        year  TOPEX/Poseidon  Jason-1  Jason-2  Jason-3\n",
              "0  1992.9614          -19.55      NaN      NaN      NaN\n",
              "1  1992.9865          -19.97      NaN      NaN      NaN\n",
              "2  1993.0123          -15.63      NaN      NaN      NaN\n",
              "3  1993.0407          -19.43      NaN      NaN      NaN\n",
              "4  1993.0660          -23.96      NaN      NaN      NaN"
            ]
          },
          "metadata": {
            "tags": []
          },
          "execution_count": 24
        }
      ]
    },
    {
      "cell_type": "code",
      "metadata": {
        "id": "-PHKTZFr2LfY",
        "colab_type": "code",
        "outputId": "042ca770-f4dd-4cfa-8298-2a2dfa6bfaeb",
        "colab": {
          "base_uri": "https://localhost:8080/",
          "height": 207
        }
      },
      "source": [
        "!head slr_sla_gbl_free_txj1j2_90.csv"
      ],
      "execution_count": 0,
      "outputs": [
        {
          "output_type": "stream",
          "text": [
            "#title = mean sea level anomaly global ocean (Annual signals removed) \n",
            "#institution = NOAA/Laboratory for Satellite Altimetry \n",
            "#references = NOAA Sea Level Rise (http://www.star.nesdis.noaa.gov/sod/lsa/SeaLevelRise/) and Radar Altimeter Database System (http://www.deos.tudelft.nl/altim/rads/) \n",
            "#comment = Data use policy: In publications, presentations, or on web pages based on LSA data the following acknowledgment should be included: 'Altimetry data are provided by NOAA Laboratory for Satellite Altimetry.' \n",
            "#trend = 2.93 mm/year (no glacial isostatic adjustment correction) \n",
            "year,TOPEX/Poseidon,Jason-1,Jason-2,Jason-3\n",
            "1992.9614,-19.55000,,,\n",
            "1992.9865,-19.97000,,,\n",
            "1993.0123,-15.63000,,,\n",
            "1993.0407,-19.43000,,,\n"
          ],
          "name": "stdout"
        }
      ]
    },
    {
      "cell_type": "markdown",
      "metadata": {
        "id": "ZAxrxAItzNBu",
        "colab_type": "text"
      },
      "source": [
        ""
      ]
    },
    {
      "cell_type": "markdown",
      "metadata": {
        "id": "8H_VZR141hmw",
        "colab_type": "text"
      },
      "source": [
        "# Add column 'minlev' contains min column value"
      ]
    },
    {
      "cell_type": "code",
      "metadata": {
        "id": "8H_nQZMpzc-d",
        "colab_type": "code",
        "outputId": "a1528322-7fa8-4ced-c474-e8e70d6a088b",
        "colab": {
          "base_uri": "https://localhost:8080/",
          "height": 204
        }
      },
      "source": [
        "data['minlev'] = data[data.columns[1:5]].min(axis=1)\n",
        "data.head()"
      ],
      "execution_count": 0,
      "outputs": [
        {
          "output_type": "execute_result",
          "data": {
            "text/html": [
              "<div>\n",
              "<style scoped>\n",
              "    .dataframe tbody tr th:only-of-type {\n",
              "        vertical-align: middle;\n",
              "    }\n",
              "\n",
              "    .dataframe tbody tr th {\n",
              "        vertical-align: top;\n",
              "    }\n",
              "\n",
              "    .dataframe thead th {\n",
              "        text-align: right;\n",
              "    }\n",
              "</style>\n",
              "<table border=\"1\" class=\"dataframe\">\n",
              "  <thead>\n",
              "    <tr style=\"text-align: right;\">\n",
              "      <th></th>\n",
              "      <th>year</th>\n",
              "      <th>TOPEX/Poseidon</th>\n",
              "      <th>Jason-1</th>\n",
              "      <th>Jason-2</th>\n",
              "      <th>Jason-3</th>\n",
              "      <th>minlev</th>\n",
              "    </tr>\n",
              "  </thead>\n",
              "  <tbody>\n",
              "    <tr>\n",
              "      <th>0</th>\n",
              "      <td>1992.9614</td>\n",
              "      <td>-19.55</td>\n",
              "      <td>NaN</td>\n",
              "      <td>NaN</td>\n",
              "      <td>NaN</td>\n",
              "      <td>-19.55</td>\n",
              "    </tr>\n",
              "    <tr>\n",
              "      <th>1</th>\n",
              "      <td>1992.9865</td>\n",
              "      <td>-19.97</td>\n",
              "      <td>NaN</td>\n",
              "      <td>NaN</td>\n",
              "      <td>NaN</td>\n",
              "      <td>-19.97</td>\n",
              "    </tr>\n",
              "    <tr>\n",
              "      <th>2</th>\n",
              "      <td>1993.0123</td>\n",
              "      <td>-15.63</td>\n",
              "      <td>NaN</td>\n",
              "      <td>NaN</td>\n",
              "      <td>NaN</td>\n",
              "      <td>-15.63</td>\n",
              "    </tr>\n",
              "    <tr>\n",
              "      <th>3</th>\n",
              "      <td>1993.0407</td>\n",
              "      <td>-19.43</td>\n",
              "      <td>NaN</td>\n",
              "      <td>NaN</td>\n",
              "      <td>NaN</td>\n",
              "      <td>-19.43</td>\n",
              "    </tr>\n",
              "    <tr>\n",
              "      <th>4</th>\n",
              "      <td>1993.0660</td>\n",
              "      <td>-23.96</td>\n",
              "      <td>NaN</td>\n",
              "      <td>NaN</td>\n",
              "      <td>NaN</td>\n",
              "      <td>-23.96</td>\n",
              "    </tr>\n",
              "  </tbody>\n",
              "</table>\n",
              "</div>"
            ],
            "text/plain": [
              "        year  TOPEX/Poseidon  Jason-1  Jason-2  Jason-3  minlev\n",
              "0  1992.9614          -19.55      NaN      NaN      NaN  -19.55\n",
              "1  1992.9865          -19.97      NaN      NaN      NaN  -19.97\n",
              "2  1993.0123          -15.63      NaN      NaN      NaN  -15.63\n",
              "3  1993.0407          -19.43      NaN      NaN      NaN  -19.43\n",
              "4  1993.0660          -23.96      NaN      NaN      NaN  -23.96"
            ]
          },
          "metadata": {
            "tags": []
          },
          "execution_count": 27
        }
      ]
    },
    {
      "cell_type": "markdown",
      "metadata": {
        "id": "6VocUWLRz121",
        "colab_type": "text"
      },
      "source": [
        "# Plot Min Water Level"
      ]
    },
    {
      "cell_type": "code",
      "metadata": {
        "id": "IviBwBR-0Hm9",
        "colab_type": "code",
        "outputId": "00e7ff4c-10a9-40ae-806d-2b4ac8fe8cd7",
        "colab": {
          "base_uri": "https://localhost:8080/",
          "height": 296
        }
      },
      "source": [
        "data.plot('year', 'minlev')"
      ],
      "execution_count": 0,
      "outputs": [
        {
          "output_type": "execute_result",
          "data": {
            "text/plain": [
              "<matplotlib.axes._subplots.AxesSubplot at 0x7f8d3eeffe80>"
            ]
          },
          "metadata": {
            "tags": []
          },
          "execution_count": 28
        },
        {
          "output_type": "display_data",
          "data": {
            "image/png": "[encoded data removed]",
            "text/plain": [
              "<Figure size 432x288 with 1 Axes>"
            ]
          },
          "metadata": {
            "tags": []
          }
        }
      ]
    },
    {
      "cell_type": "code",
      "metadata": {
        "id": "qmCk5ZW40tuW",
        "colab_type": "code",
        "colab": {}
      },
      "source": [
        ""
      ],
      "execution_count": 0,
      "outputs": []
    }
  ]
}